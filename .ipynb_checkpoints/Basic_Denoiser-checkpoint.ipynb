{
 "cells": [
  {
   "cell_type": "raw",
   "metadata": {},
   "source": [
    "Based on the video below\n",
    "https://www.youtube.com/watch?v=6maH8Lh3pK4\n",
    "\n",
    "https://blog.keras.io/building-autoencoders-in-keras.html"
   ]
  },
  {
   "cell_type": "markdown",
   "metadata": {},
   "source": [
    "Make the NN summarise the information the are looking at.\n",
    "\n",
    "Useful for compression and denoising"
   ]
  },
  {
   "cell_type": "code",
   "execution_count": 1,
   "metadata": {},
   "outputs": [
    {
     "name": "stderr",
     "output_type": "stream",
     "text": [
      "Using TensorFlow backend.\n"
     ]
    }
   ],
   "source": [
    "from keras.layers import Input, Dense, Flatten, Reshape, UpSampling2D, Conv2D, MaxPooling2D\n",
    "from keras.models import Model, Sequential\n",
    "\n",
    "from keras.datasets import mnist\n",
    "from keras.datasets import fashion_mnist\n",
    "\n",
    "import numpy as np"
   ]
  },
  {
   "cell_type": "code",
   "execution_count": 2,
   "metadata": {},
   "outputs": [],
   "source": [
    "# this is the size of our encoded representations\n",
    "encoding_dim = 32  # 32 floats -> compression of factor 24.5, assuming the input is 784 floats\n",
    "\n",
    "# this is our input placeholder\n",
    "input_img = Input(shape=(784,))\n",
    "# \"encoded\" is the encoded representation of the input\n",
    "encoded = Dense(encoding_dim, activation='relu')(input_img)\n",
    "# \"decoded\" is the lossy reconstruction of the input\n",
    "decoded = Dense(784, activation='sigmoid')(encoded)\n",
    "\n",
    "# this model maps an input to its reconstruction\n",
    "autoencoder = Model(input_img, decoded)"
   ]
  },
  {
   "cell_type": "code",
   "execution_count": 3,
   "metadata": {},
   "outputs": [],
   "source": [
    "# this model maps an input to its encoded representation\n",
    "encoder = Model(input_img, encoded)"
   ]
  },
  {
   "cell_type": "code",
   "execution_count": 4,
   "metadata": {},
   "outputs": [],
   "source": [
    "# create a placeholder for an encoded (32-dimensional) input\n",
    "encoded_input = Input(shape=(encoding_dim,))\n",
    "# retrieve the last layer of the autoencoder model\n",
    "decoder_layer = autoencoder.layers[-1]\n",
    "# create the decoder model\n",
    "decoder = Model(encoded_input, decoder_layer(encoded_input))"
   ]
  },
  {
   "cell_type": "code",
   "execution_count": 5,
   "metadata": {},
   "outputs": [],
   "source": [
    "autoencoder.compile(optimizer='adadelta', loss='binary_crossentropy')"
   ]
  },
  {
   "cell_type": "code",
   "execution_count": 6,
   "metadata": {},
   "outputs": [],
   "source": [
    "from keras.datasets import mnist\n",
    "import numpy as np\n",
    "(x_train, _), (x_test, _) = mnist.load_data()"
   ]
  },
  {
   "cell_type": "code",
   "execution_count": 7,
   "metadata": {},
   "outputs": [
    {
     "name": "stdout",
     "output_type": "stream",
     "text": [
      "(60000, 784)\n",
      "(10000, 784)\n"
     ]
    }
   ],
   "source": [
    "x_train = x_train.astype('float32') / 255.\n",
    "x_test = x_test.astype('float32') / 255.\n",
    "x_train = x_train.reshape((len(x_train), np.prod(x_train.shape[1:])))\n",
    "x_test = x_test.reshape((len(x_test), np.prod(x_test.shape[1:])))\n",
    "print (x_train.shape)\n",
    "print (x_test.shape)"
   ]
  },
  {
   "cell_type": "code",
   "execution_count": 8,
   "metadata": {},
   "outputs": [
    {
     "name": "stdout",
     "output_type": "stream",
     "text": [
      "Train on 60000 samples, validate on 10000 samples\n",
      "Epoch 1/50\n",
      "60000/60000 [==============================] - 1s 22us/step - loss: 0.3543 - val_loss: 0.2712\n",
      "Epoch 2/50\n",
      "60000/60000 [==============================] - 1s 18us/step - loss: 0.2640 - val_loss: 0.2529\n",
      "Epoch 3/50\n",
      "60000/60000 [==============================] - 1s 18us/step - loss: 0.2422 - val_loss: 0.2295\n",
      "Epoch 4/50\n",
      "60000/60000 [==============================] - 1s 17us/step - loss: 0.2218 - val_loss: 0.2119\n",
      "Epoch 5/50\n",
      "60000/60000 [==============================] - 1s 17us/step - loss: 0.2066 - val_loss: 0.1991\n",
      "Epoch 6/50\n",
      "60000/60000 [==============================] - 1s 17us/step - loss: 0.1955 - val_loss: 0.1896\n",
      "Epoch 7/50\n",
      "60000/60000 [==============================] - 1s 18us/step - loss: 0.1871 - val_loss: 0.1820\n",
      "Epoch 8/50\n",
      "60000/60000 [==============================] - 1s 17us/step - loss: 0.1801 - val_loss: 0.1756\n",
      "Epoch 9/50\n",
      "60000/60000 [==============================] - 1s 17us/step - loss: 0.1741 - val_loss: 0.1701\n",
      "Epoch 10/50\n",
      "60000/60000 [==============================] - 1s 18us/step - loss: 0.1690 - val_loss: 0.1653\n",
      "Epoch 11/50\n",
      "60000/60000 [==============================] - 1s 18us/step - loss: 0.1644 - val_loss: 0.1609\n",
      "Epoch 12/50\n",
      "60000/60000 [==============================] - 1s 18us/step - loss: 0.1603 - val_loss: 0.1569\n",
      "Epoch 13/50\n",
      "60000/60000 [==============================] - 1s 18us/step - loss: 0.1565 - val_loss: 0.1532\n",
      "Epoch 14/50\n",
      "60000/60000 [==============================] - 1s 18us/step - loss: 0.1529 - val_loss: 0.1498\n",
      "Epoch 15/50\n",
      "60000/60000 [==============================] - 1s 18us/step - loss: 0.1497 - val_loss: 0.1469\n",
      "Epoch 16/50\n",
      "60000/60000 [==============================] - 1s 18us/step - loss: 0.1466 - val_loss: 0.1438\n",
      "Epoch 17/50\n",
      "60000/60000 [==============================] - 1s 17us/step - loss: 0.1438 - val_loss: 0.1410\n",
      "Epoch 18/50\n",
      "60000/60000 [==============================] - 1s 18us/step - loss: 0.1412 - val_loss: 0.1384\n",
      "Epoch 19/50\n",
      "60000/60000 [==============================] - 1s 18us/step - loss: 0.1387 - val_loss: 0.1360\n",
      "Epoch 20/50\n",
      "60000/60000 [==============================] - 1s 18us/step - loss: 0.1363 - val_loss: 0.1336\n",
      "Epoch 21/50\n",
      "60000/60000 [==============================] - 1s 18us/step - loss: 0.1341 - val_loss: 0.1315\n",
      "Epoch 22/50\n",
      "60000/60000 [==============================] - 1s 18us/step - loss: 0.1320 - val_loss: 0.1294\n",
      "Epoch 23/50\n",
      "60000/60000 [==============================] - 1s 18us/step - loss: 0.1300 - val_loss: 0.1274\n",
      "Epoch 24/50\n",
      "60000/60000 [==============================] - 1s 18us/step - loss: 0.1281 - val_loss: 0.1257\n",
      "Epoch 25/50\n",
      "60000/60000 [==============================] - 1s 18us/step - loss: 0.1263 - val_loss: 0.1238\n",
      "Epoch 26/50\n",
      "60000/60000 [==============================] - 1s 18us/step - loss: 0.1246 - val_loss: 0.1222\n",
      "Epoch 27/50\n",
      "60000/60000 [==============================] - 1s 18us/step - loss: 0.1229 - val_loss: 0.1205\n",
      "Epoch 28/50\n",
      "60000/60000 [==============================] - 1s 18us/step - loss: 0.1214 - val_loss: 0.1190\n",
      "Epoch 29/50\n",
      "60000/60000 [==============================] - 1s 18us/step - loss: 0.1199 - val_loss: 0.1176\n",
      "Epoch 30/50\n",
      "60000/60000 [==============================] - 1s 18us/step - loss: 0.1185 - val_loss: 0.1162\n",
      "Epoch 31/50\n",
      "60000/60000 [==============================] - 1s 18us/step - loss: 0.1172 - val_loss: 0.1149\n",
      "Epoch 32/50\n",
      "60000/60000 [==============================] - 1s 18us/step - loss: 0.1160 - val_loss: 0.1137\n",
      "Epoch 33/50\n",
      "60000/60000 [==============================] - 1s 18us/step - loss: 0.1148 - val_loss: 0.1126\n",
      "Epoch 34/50\n",
      "60000/60000 [==============================] - 1s 17us/step - loss: 0.1137 - val_loss: 0.1115\n",
      "Epoch 35/50\n",
      "60000/60000 [==============================] - 1s 18us/step - loss: 0.1126 - val_loss: 0.1105\n",
      "Epoch 36/50\n",
      "60000/60000 [==============================] - 1s 18us/step - loss: 0.1117 - val_loss: 0.1095\n",
      "Epoch 37/50\n",
      "60000/60000 [==============================] - 1s 18us/step - loss: 0.1108 - val_loss: 0.1087\n",
      "Epoch 38/50\n",
      "60000/60000 [==============================] - 1s 18us/step - loss: 0.1099 - val_loss: 0.1079\n",
      "Epoch 39/50\n",
      "60000/60000 [==============================] - 1s 18us/step - loss: 0.1091 - val_loss: 0.1071\n",
      "Epoch 40/50\n",
      "60000/60000 [==============================] - 1s 18us/step - loss: 0.1084 - val_loss: 0.1064\n",
      "Epoch 41/50\n",
      "60000/60000 [==============================] - 1s 18us/step - loss: 0.1077 - val_loss: 0.1057\n",
      "Epoch 42/50\n",
      "60000/60000 [==============================] - 1s 18us/step - loss: 0.1071 - val_loss: 0.1051\n",
      "Epoch 43/50\n",
      "60000/60000 [==============================] - 1s 18us/step - loss: 0.1065 - val_loss: 0.1045\n",
      "Epoch 44/50\n",
      "60000/60000 [==============================] - 1s 18us/step - loss: 0.1059 - val_loss: 0.1040\n",
      "Epoch 45/50\n",
      "60000/60000 [==============================] - 1s 18us/step - loss: 0.1054 - val_loss: 0.1034\n",
      "Epoch 46/50\n",
      "60000/60000 [==============================] - 1s 19us/step - loss: 0.1049 - val_loss: 0.1030\n",
      "Epoch 47/50\n",
      "60000/60000 [==============================] - 1s 18us/step - loss: 0.1044 - val_loss: 0.1025\n",
      "Epoch 48/50\n",
      "60000/60000 [==============================] - 1s 18us/step - loss: 0.1039 - val_loss: 0.1021\n",
      "Epoch 49/50\n",
      "60000/60000 [==============================] - 1s 18us/step - loss: 0.1035 - val_loss: 0.1017\n",
      "Epoch 50/50\n",
      "60000/60000 [==============================] - 1s 18us/step - loss: 0.1031 - val_loss: 0.1013\n"
     ]
    },
    {
     "data": {
      "text/plain": [
       "<keras.callbacks.History at 0x10d84c1d0>"
      ]
     },
     "execution_count": 8,
     "metadata": {},
     "output_type": "execute_result"
    }
   ],
   "source": [
    "autoencoder.fit(x_train, x_train,\n",
    "                epochs=50,\n",
    "                batch_size=256,\n",
    "                shuffle=True,\n",
    "                validation_data=(x_test, x_test))"
   ]
  },
  {
   "cell_type": "code",
   "execution_count": 9,
   "metadata": {},
   "outputs": [],
   "source": [
    "# encode and decode some digits\n",
    "# note that we take them from the *test* set\n",
    "encoded_imgs = encoder.predict(x_test)\n",
    "decoded_imgs = decoder.predict(encoded_imgs)"
   ]
  },
  {
   "cell_type": "code",
   "execution_count": 10,
   "metadata": {},
   "outputs": [
    {
     "data": {
      "image/png": "[encoded data removed]",
      "text/plain": [
       "<Figure size 1440x288 with 20 Axes>"
      ]
     },
     "metadata": {
      "needs_background": "light"
     },
     "output_type": "display_data"
    }
   ],
   "source": [
    "# use Matplotlib (don't ask)\n",
    "%matplotlib inline\n",
    "import matplotlib.pyplot as plt\n",
    "\n",
    "n = 10  # how many digits we will display\n",
    "plt.figure(figsize=(20, 4))\n",
    "for i in range(n):\n",
    "    # display original\n",
    "    ax = plt.subplot(2, n, i + 1)\n",
    "    plt.imshow(x_test[i].reshape(28, 28))\n",
    "    plt.gray()\n",
    "    ax.get_xaxis().set_visible(False)\n",
    "    ax.get_yaxis().set_visible(False)\n",
    "\n",
    "    # display reconstruction\n",
    "    ax = plt.subplot(2, n, i + 1 + n)\n",
    "    plt.imshow(decoded_imgs[i].reshape(28, 28))\n",
    "    plt.gray()\n",
    "    ax.get_xaxis().set_visible(False)\n",
    "    ax.get_yaxis().set_visible(False)\n",
    "plt.show()"
   ]
  },
  {
   "cell_type": "markdown",
   "metadata": {},
   "source": [
    "In the previous example, the representations were only constrained by the size of the hidden layer (32). In such a situation, what typically happens is that the hidden layer is learning an approximation of PCA (principal component analysis). But another way to constrain the representations to be compact is to add a sparsity contraint on the activity of the hidden representations, so fewer units would \"fire\" at a given time. In Keras, this can be done by adding an activity_regularizer to our Dense layer:\n",
    "\n"
   ]
  },
  {
   "cell_type": "code",
   "execution_count": 11,
   "metadata": {},
   "outputs": [],
   "source": [
    "from keras import regularizers\n",
    "\n",
    "encoding_dim = 32\n",
    "\n",
    "input_img = Input(shape=(784,))\n",
    "# add a Dense layer with a L1 activity regularizer\n",
    "encoded = Dense(encoding_dim, activation='relu',\n",
    "                activity_regularizer=regularizers.l1(10e-5))(input_img)\n",
    "decoded = Dense(784, activation='sigmoid')(encoded)\n",
    "\n",
    "autoencoder = Model(input_img, decoded)"
   ]
  },
  {
   "cell_type": "code",
   "execution_count": 12,
   "metadata": {},
   "outputs": [],
   "source": [
    "input_img = Input(shape=(784,))\n",
    "encoded = Dense(128, activation='relu')(input_img)\n",
    "encoded = Dense(64, activation='relu')(encoded)\n",
    "encoded = Dense(32, activation='relu')(encoded)\n",
    "\n",
    "decoded = Dense(64, activation='relu')(encoded)\n",
    "decoded = Dense(128, activation='relu')(decoded)\n",
    "decoded = Dense(784, activation='sigmoid')(decoded)"
   ]
  },
  {
   "cell_type": "code",
   "execution_count": 13,
   "metadata": {},
   "outputs": [
    {
     "name": "stdout",
     "output_type": "stream",
     "text": [
      "Train on 60000 samples, validate on 10000 samples\n",
      "Epoch 1/100\n",
      "60000/60000 [==============================] - 3s 44us/step - loss: 0.3231 - val_loss: 0.2613\n",
      "Epoch 2/100\n",
      "60000/60000 [==============================] - 2s 39us/step - loss: 0.2511 - val_loss: 0.2376\n",
      "Epoch 3/100\n",
      "60000/60000 [==============================] - 2s 33us/step - loss: 0.2261 - val_loss: 0.2147\n",
      "Epoch 4/100\n",
      "60000/60000 [==============================] - 2s 31us/step - loss: 0.2086 - val_loss: 0.2007\n",
      "Epoch 5/100\n",
      "60000/60000 [==============================] - 2s 32us/step - loss: 0.1952 - val_loss: 0.1888\n",
      "Epoch 6/100\n",
      "60000/60000 [==============================] - 2s 31us/step - loss: 0.1841 - val_loss: 0.1803\n",
      "Epoch 7/100\n",
      "60000/60000 [==============================] - 2s 31us/step - loss: 0.1770 - val_loss: 0.1717\n",
      "Epoch 8/100\n",
      "60000/60000 [==============================] - 2s 31us/step - loss: 0.1707 - val_loss: 0.1664\n",
      "Epoch 9/100\n",
      "60000/60000 [==============================] - 2s 31us/step - loss: 0.1651 - val_loss: 0.1605\n",
      "Epoch 10/100\n",
      "60000/60000 [==============================] - 2s 31us/step - loss: 0.1601 - val_loss: 0.1562\n",
      "Epoch 11/100\n",
      "60000/60000 [==============================] - 2s 33us/step - loss: 0.1563 - val_loss: 0.1533\n",
      "Epoch 12/100\n",
      "60000/60000 [==============================] - 2s 34us/step - loss: 0.1530 - val_loss: 0.1505\n",
      "Epoch 13/100\n",
      "60000/60000 [==============================] - 2s 35us/step - loss: 0.1503 - val_loss: 0.1472\n",
      "Epoch 14/100\n",
      "60000/60000 [==============================] - 2s 34us/step - loss: 0.1477 - val_loss: 0.1449\n",
      "Epoch 15/100\n",
      "60000/60000 [==============================] - 2s 33us/step - loss: 0.1456 - val_loss: 0.1424\n",
      "Epoch 16/100\n",
      "60000/60000 [==============================] - 2s 33us/step - loss: 0.1439 - val_loss: 0.1418\n",
      "Epoch 17/100\n",
      "60000/60000 [==============================] - 2s 33us/step - loss: 0.1421 - val_loss: 0.1400\n",
      "Epoch 18/100\n",
      "60000/60000 [==============================] - 2s 32us/step - loss: 0.1407 - val_loss: 0.1395\n",
      "Epoch 19/100\n",
      "60000/60000 [==============================] - 2s 34us/step - loss: 0.1393 - val_loss: 0.1373\n",
      "Epoch 20/100\n",
      "60000/60000 [==============================] - 2s 33us/step - loss: 0.1375 - val_loss: 0.1359\n",
      "Epoch 21/100\n",
      "60000/60000 [==============================] - 2s 32us/step - loss: 0.1360 - val_loss: 0.1326\n",
      "Epoch 22/100\n",
      "60000/60000 [==============================] - 2s 32us/step - loss: 0.1343 - val_loss: 0.1314\n",
      "Epoch 23/100\n",
      "60000/60000 [==============================] - 2s 32us/step - loss: 0.1325 - val_loss: 0.1327\n",
      "Epoch 24/100\n",
      "60000/60000 [==============================] - 2s 32us/step - loss: 0.1311 - val_loss: 0.1305\n",
      "Epoch 25/100\n",
      "60000/60000 [==============================] - 2s 32us/step - loss: 0.1297 - val_loss: 0.1286\n",
      "Epoch 26/100\n",
      "60000/60000 [==============================] - 2s 32us/step - loss: 0.1284 - val_loss: 0.1269\n",
      "Epoch 27/100\n",
      "60000/60000 [==============================] - 2s 31us/step - loss: 0.1272 - val_loss: 0.1274\n",
      "Epoch 28/100\n",
      "60000/60000 [==============================] - 2s 33us/step - loss: 0.1263 - val_loss: 0.1247\n",
      "Epoch 29/100\n",
      "60000/60000 [==============================] - 2s 32us/step - loss: 0.1251 - val_loss: 0.1239\n",
      "Epoch 30/100\n",
      "60000/60000 [==============================] - 2s 32us/step - loss: 0.1242 - val_loss: 0.1198\n",
      "Epoch 31/100\n",
      "60000/60000 [==============================] - 2s 31us/step - loss: 0.1230 - val_loss: 0.1216\n",
      "Epoch 32/100\n",
      "60000/60000 [==============================] - 2s 31us/step - loss: 0.1222 - val_loss: 0.1200\n",
      "Epoch 33/100\n",
      "60000/60000 [==============================] - 2s 31us/step - loss: 0.1212 - val_loss: 0.1214\n",
      "Epoch 34/100\n",
      "60000/60000 [==============================] - 2s 31us/step - loss: 0.1203 - val_loss: 0.1194\n",
      "Epoch 35/100\n",
      "60000/60000 [==============================] - 2s 31us/step - loss: 0.1195 - val_loss: 0.1208\n",
      "Epoch 36/100\n",
      "60000/60000 [==============================] - 2s 31us/step - loss: 0.1189 - val_loss: 0.1182\n",
      "Epoch 37/100\n",
      "60000/60000 [==============================] - 2s 31us/step - loss: 0.1181 - val_loss: 0.1180\n",
      "Epoch 38/100\n",
      "60000/60000 [==============================] - 2s 31us/step - loss: 0.1175 - val_loss: 0.1152\n",
      "Epoch 39/100\n",
      "60000/60000 [==============================] - 2s 31us/step - loss: 0.1169 - val_loss: 0.1144\n",
      "Epoch 40/100\n",
      "60000/60000 [==============================] - 2s 31us/step - loss: 0.1162 - val_loss: 0.1139\n",
      "Epoch 41/100\n",
      "60000/60000 [==============================] - 2s 32us/step - loss: 0.1158 - val_loss: 0.1161\n",
      "Epoch 42/100\n",
      "60000/60000 [==============================] - 2s 31us/step - loss: 0.1151 - val_loss: 0.1132\n",
      "Epoch 43/100\n",
      "60000/60000 [==============================] - 2s 31us/step - loss: 0.1147 - val_loss: 0.1124\n",
      "Epoch 44/100\n",
      "60000/60000 [==============================] - 2s 31us/step - loss: 0.1142 - val_loss: 0.1132\n",
      "Epoch 45/100\n",
      "60000/60000 [==============================] - 2s 31us/step - loss: 0.1136 - val_loss: 0.1105\n",
      "Epoch 46/100\n",
      "60000/60000 [==============================] - 2s 32us/step - loss: 0.1132 - val_loss: 0.1122\n",
      "Epoch 47/100\n",
      "60000/60000 [==============================] - 2s 32us/step - loss: 0.1127 - val_loss: 0.1114\n",
      "Epoch 48/100\n",
      "60000/60000 [==============================] - 2s 33us/step - loss: 0.1121 - val_loss: 0.1113\n",
      "Epoch 49/100\n",
      "60000/60000 [==============================] - 2s 32us/step - loss: 0.1117 - val_loss: 0.1114\n",
      "Epoch 50/100\n",
      "60000/60000 [==============================] - 2s 32us/step - loss: 0.1113 - val_loss: 0.1101\n",
      "Epoch 51/100\n",
      "60000/60000 [==============================] - 2s 32us/step - loss: 0.1108 - val_loss: 0.1096\n",
      "Epoch 52/100\n",
      "60000/60000 [==============================] - 2s 32us/step - loss: 0.1104 - val_loss: 0.1092\n",
      "Epoch 53/100\n",
      "60000/60000 [==============================] - 2s 32us/step - loss: 0.1098 - val_loss: 0.1094\n",
      "Epoch 54/100\n",
      "60000/60000 [==============================] - 2s 32us/step - loss: 0.1095 - val_loss: 0.1085\n",
      "Epoch 55/100\n",
      "60000/60000 [==============================] - 2s 33us/step - loss: 0.1091 - val_loss: 0.1083\n",
      "Epoch 56/100\n",
      "60000/60000 [==============================] - 2s 33us/step - loss: 0.1088 - val_loss: 0.1077\n",
      "Epoch 57/100\n",
      "60000/60000 [==============================] - 2s 33us/step - loss: 0.1084 - val_loss: 0.1077\n",
      "Epoch 58/100\n",
      "60000/60000 [==============================] - 2s 32us/step - loss: 0.1080 - val_loss: 0.1078\n",
      "Epoch 59/100\n",
      "60000/60000 [==============================] - 2s 34us/step - loss: 0.1077 - val_loss: 0.1066\n",
      "Epoch 60/100\n",
      "60000/60000 [==============================] - 2s 33us/step - loss: 0.1073 - val_loss: 0.1065\n",
      "Epoch 61/100\n",
      "60000/60000 [==============================] - 2s 33us/step - loss: 0.1070 - val_loss: 0.1057\n",
      "Epoch 62/100\n",
      "60000/60000 [==============================] - 2s 32us/step - loss: 0.1066 - val_loss: 0.1082\n",
      "Epoch 63/100\n",
      "60000/60000 [==============================] - 2s 33us/step - loss: 0.1064 - val_loss: 0.1053\n",
      "Epoch 64/100\n",
      "60000/60000 [==============================] - 2s 33us/step - loss: 0.1059 - val_loss: 0.1048\n",
      "Epoch 65/100\n",
      "60000/60000 [==============================] - 2s 33us/step - loss: 0.1055 - val_loss: 0.1036\n",
      "Epoch 66/100\n",
      "60000/60000 [==============================] - 2s 33us/step - loss: 0.1052 - val_loss: 0.1058\n",
      "Epoch 67/100\n",
      "60000/60000 [==============================] - 2s 33us/step - loss: 0.1049 - val_loss: 0.1032\n",
      "Epoch 68/100\n",
      "60000/60000 [==============================] - 2s 32us/step - loss: 0.1047 - val_loss: 0.1033\n",
      "Epoch 69/100\n",
      "60000/60000 [==============================] - 2s 32us/step - loss: 0.1044 - val_loss: 0.1036\n",
      "Epoch 70/100\n",
      "60000/60000 [==============================] - 2s 33us/step - loss: 0.1040 - val_loss: 0.1031\n",
      "Epoch 71/100\n",
      "60000/60000 [==============================] - 2s 32us/step - loss: 0.1037 - val_loss: 0.1038\n",
      "Epoch 72/100\n",
      "60000/60000 [==============================] - 2s 33us/step - loss: 0.1036 - val_loss: 0.1046\n",
      "Epoch 73/100\n",
      "60000/60000 [==============================] - 2s 32us/step - loss: 0.1033 - val_loss: 0.1032\n",
      "Epoch 74/100\n",
      "60000/60000 [==============================] - 2s 33us/step - loss: 0.1030 - val_loss: 0.1034\n",
      "Epoch 75/100\n",
      "60000/60000 [==============================] - 2s 32us/step - loss: 0.1028 - val_loss: 0.1006\n",
      "Epoch 76/100\n",
      "60000/60000 [==============================] - 2s 33us/step - loss: 0.1026 - val_loss: 0.1029\n",
      "Epoch 77/100\n"
     ]
    },
    {
     "name": "stdout",
     "output_type": "stream",
     "text": [
      "60000/60000 [==============================] - 2s 32us/step - loss: 0.1024 - val_loss: 0.1005\n",
      "Epoch 78/100\n",
      "60000/60000 [==============================] - 2s 32us/step - loss: 0.1023 - val_loss: 0.1041\n",
      "Epoch 79/100\n",
      "60000/60000 [==============================] - 2s 32us/step - loss: 0.1020 - val_loss: 0.1019\n",
      "Epoch 80/100\n",
      "60000/60000 [==============================] - 2s 32us/step - loss: 0.1017 - val_loss: 0.1013\n",
      "Epoch 81/100\n",
      "60000/60000 [==============================] - 2s 32us/step - loss: 0.1016 - val_loss: 0.1030\n",
      "Epoch 82/100\n",
      "60000/60000 [==============================] - 2s 32us/step - loss: 0.1014 - val_loss: 0.1008\n",
      "Epoch 83/100\n",
      "60000/60000 [==============================] - 2s 32us/step - loss: 0.1012 - val_loss: 0.1005\n",
      "Epoch 84/100\n",
      "60000/60000 [==============================] - 2s 32us/step - loss: 0.1010 - val_loss: 0.1010\n",
      "Epoch 85/100\n",
      "60000/60000 [==============================] - 2s 32us/step - loss: 0.1009 - val_loss: 0.0984\n",
      "Epoch 86/100\n",
      "60000/60000 [==============================] - 2s 32us/step - loss: 0.1007 - val_loss: 0.1000\n",
      "Epoch 87/100\n",
      "60000/60000 [==============================] - 2s 32us/step - loss: 0.1004 - val_loss: 0.1022\n",
      "Epoch 88/100\n",
      "60000/60000 [==============================] - 2s 34us/step - loss: 0.1003 - val_loss: 0.1009\n",
      "Epoch 89/100\n",
      "60000/60000 [==============================] - 2s 33us/step - loss: 0.1002 - val_loss: 0.0986\n",
      "Epoch 90/100\n",
      "60000/60000 [==============================] - 2s 34us/step - loss: 0.0999 - val_loss: 0.0992\n",
      "Epoch 91/100\n",
      "60000/60000 [==============================] - 2s 32us/step - loss: 0.0999 - val_loss: 0.0983\n",
      "Epoch 92/100\n",
      "60000/60000 [==============================] - 2s 32us/step - loss: 0.0995 - val_loss: 0.0988\n",
      "Epoch 93/100\n",
      "60000/60000 [==============================] - 2s 32us/step - loss: 0.0996 - val_loss: 0.0996\n",
      "Epoch 94/100\n",
      "60000/60000 [==============================] - 2s 32us/step - loss: 0.0993 - val_loss: 0.0976\n",
      "Epoch 95/100\n",
      "60000/60000 [==============================] - 2s 33us/step - loss: 0.0993 - val_loss: 0.0987\n",
      "Epoch 96/100\n",
      "60000/60000 [==============================] - 2s 33us/step - loss: 0.0990 - val_loss: 0.0966\n",
      "Epoch 97/100\n",
      "60000/60000 [==============================] - 2s 32us/step - loss: 0.0988 - val_loss: 0.0985\n",
      "Epoch 98/100\n",
      "60000/60000 [==============================] - 2s 33us/step - loss: 0.0988 - val_loss: 0.0973\n",
      "Epoch 99/100\n",
      "60000/60000 [==============================] - 2s 32us/step - loss: 0.0985 - val_loss: 0.0981\n",
      "Epoch 100/100\n",
      "60000/60000 [==============================] - 2s 32us/step - loss: 0.0986 - val_loss: 0.0973\n"
     ]
    },
    {
     "data": {
      "text/plain": [
       "<keras.callbacks.History at 0xb3adbf710>"
      ]
     },
     "execution_count": 13,
     "metadata": {},
     "output_type": "execute_result"
    }
   ],
   "source": [
    "autoencoder = Model(input_img, decoded)\n",
    "autoencoder.compile(optimizer='adadelta', loss='binary_crossentropy')\n",
    "\n",
    "autoencoder.fit(x_train, x_train,\n",
    "                epochs=100,\n",
    "                batch_size=256,\n",
    "                shuffle=True,\n",
    "                validation_data=(x_test, x_test))"
   ]
  },
  {
   "cell_type": "code",
   "execution_count": 14,
   "metadata": {},
   "outputs": [],
   "source": [
    "# encode and decode some digits\n",
    "# note that we take them from the *test* set\n",
    "encoded_imgs = encoder.predict(x_test)\n",
    "decoded_imgs = decoder.predict(encoded_imgs)"
   ]
  },
  {
   "cell_type": "code",
   "execution_count": 15,
   "metadata": {},
   "outputs": [
    {
     "data": {
      "image/png": "[encoded data removed]",
      "text/plain": [
       "<Figure size 1440x288 with 20 Axes>"
      ]
     },
     "metadata": {
      "needs_background": "light"
     },
     "output_type": "display_data"
    }
   ],
   "source": [
    "n = 10  # how many digits we will display\n",
    "plt.figure(figsize=(20, 4))\n",
    "for i in range(n):\n",
    "    # display original\n",
    "    ax = plt.subplot(2, n, i + 1)\n",
    "    plt.imshow(x_test[i].reshape(28, 28))\n",
    "    plt.gray()\n",
    "    ax.get_xaxis().set_visible(False)\n",
    "    ax.get_yaxis().set_visible(False)\n",
    "\n",
    "    # display reconstruction\n",
    "    ax = plt.subplot(2, n, i + 1 + n)\n",
    "    plt.imshow(decoded_imgs[i].reshape(28, 28))\n",
    "    plt.gray()\n",
    "    ax.get_xaxis().set_visible(False)\n",
    "    ax.get_yaxis().set_visible(False)\n",
    "plt.show()"
   ]
  }
 ],
 "metadata": {
  "kernelspec": {
   "display_name": "Python [conda env:PythonData]",
   "language": "python",
   "name": "conda-env-PythonData-py"
  },
  "language_info": {
   "codemirror_mode": {
    "name": "ipython",
    "version": 3
   },
   "file_extension": ".py",
   "mimetype": "text/x-python",
   "name": "python",
   "nbconvert_exporter": "python",
   "pygments_lexer": "ipython3",
   "version": "3.6.7"
  }
 },
 "nbformat": 4,
 "nbformat_minor": 2
}
